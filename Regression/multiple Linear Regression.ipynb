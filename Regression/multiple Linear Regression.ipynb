{
 "cells": [
  {
   "cell_type": "code",
   "execution_count": 1,
   "id": "8faf87dd",
   "metadata": {},
   "outputs": [],
   "source": [
    "import pandas as pd\n",
    "import matplotlib.pyplot as plt\n",
    "from sklearn.preprocessing import OneHotEncoder, LabelEncoder,StandardScaler\n",
    "from sklearn.impute import SimpleImputer\n",
    "from sklearn.linear_model import LinearRegression\n",
    "from sklearn.model_selection import train_test_split\n",
    "import seaborn as sns"
   ]
  },
  {
   "cell_type": "code",
   "execution_count": 2,
   "id": "3e17c4aa",
   "metadata": {},
   "outputs": [
    {
     "data": {
      "text/html": [
       "<div>\n",
       "<style scoped>\n",
       "    .dataframe tbody tr th:only-of-type {\n",
       "        vertical-align: middle;\n",
       "    }\n",
       "\n",
       "    .dataframe tbody tr th {\n",
       "        vertical-align: top;\n",
       "    }\n",
       "\n",
       "    .dataframe thead th {\n",
       "        text-align: right;\n",
       "    }\n",
       "</style>\n",
       "<table border=\"1\" class=\"dataframe\">\n",
       "  <thead>\n",
       "    <tr style=\"text-align: right;\">\n",
       "      <th></th>\n",
       "      <th>R&amp;D Spend</th>\n",
       "      <th>Administration</th>\n",
       "      <th>Marketing Spend</th>\n",
       "      <th>State</th>\n",
       "      <th>Profit</th>\n",
       "    </tr>\n",
       "  </thead>\n",
       "  <tbody>\n",
       "    <tr>\n",
       "      <th>0</th>\n",
       "      <td>165349.20</td>\n",
       "      <td>136897.80</td>\n",
       "      <td>471784.10</td>\n",
       "      <td>New York</td>\n",
       "      <td>192261.83</td>\n",
       "    </tr>\n",
       "    <tr>\n",
       "      <th>1</th>\n",
       "      <td>162597.70</td>\n",
       "      <td>151377.59</td>\n",
       "      <td>443898.53</td>\n",
       "      <td>California</td>\n",
       "      <td>191792.06</td>\n",
       "    </tr>\n",
       "    <tr>\n",
       "      <th>2</th>\n",
       "      <td>153441.51</td>\n",
       "      <td>101145.55</td>\n",
       "      <td>407934.54</td>\n",
       "      <td>Florida</td>\n",
       "      <td>191050.39</td>\n",
       "    </tr>\n",
       "    <tr>\n",
       "      <th>3</th>\n",
       "      <td>144372.41</td>\n",
       "      <td>118671.85</td>\n",
       "      <td>383199.62</td>\n",
       "      <td>New York</td>\n",
       "      <td>182901.99</td>\n",
       "    </tr>\n",
       "    <tr>\n",
       "      <th>4</th>\n",
       "      <td>142107.34</td>\n",
       "      <td>91391.77</td>\n",
       "      <td>366168.42</td>\n",
       "      <td>Florida</td>\n",
       "      <td>166187.94</td>\n",
       "    </tr>\n",
       "  </tbody>\n",
       "</table>\n",
       "</div>"
      ],
      "text/plain": [
       "   R&D Spend  Administration  Marketing Spend       State     Profit\n",
       "0  165349.20       136897.80        471784.10    New York  192261.83\n",
       "1  162597.70       151377.59        443898.53  California  191792.06\n",
       "2  153441.51       101145.55        407934.54     Florida  191050.39\n",
       "3  144372.41       118671.85        383199.62    New York  182901.99\n",
       "4  142107.34        91391.77        366168.42     Florida  166187.94"
      ]
     },
     "execution_count": 2,
     "metadata": {},
     "output_type": "execute_result"
    }
   ],
   "source": [
    "df = pd.read_csv('50_Startups.csv')\n",
    "df.head()"
   ]
  },
  {
   "cell_type": "code",
   "execution_count": null,
   "id": "edfdc3bb",
   "metadata": {},
   "outputs": [],
   "source": [
    "df.isnull().sum()"
   ]
  },
  {
   "cell_type": "code",
   "execution_count": null,
   "id": "bffacb3f",
   "metadata": {},
   "outputs": [],
   "source": [
    "sns.regplot(df, x='R&D Spend' ,y= 'Profit')"
   ]
  },
  {
   "cell_type": "code",
   "execution_count": null,
   "id": "ab49d6c5",
   "metadata": {},
   "outputs": [],
   "source": [
    "sns.regplot(df,x='Marketing Spend',y='Profit')"
   ]
  },
  {
   "cell_type": "code",
   "execution_count": null,
   "id": "fd99beb5",
   "metadata": {},
   "outputs": [],
   "source": [
    "sns.pairplot(df,kind='reg')"
   ]
  },
  {
   "cell_type": "code",
   "execution_count": null,
   "id": "f285a587",
   "metadata": {},
   "outputs": [],
   "source": [
    "sns.barplot(df,x=\"State\",y='Profit')"
   ]
  },
  {
   "cell_type": "code",
   "execution_count": null,
   "id": "97410497",
   "metadata": {},
   "outputs": [],
   "source": [
    "X= df.drop(columns=['Profit'])\n",
    "y= df['Profit']"
   ]
  },
  {
   "cell_type": "code",
   "execution_count": null,
   "id": "83797b83",
   "metadata": {},
   "outputs": [],
   "source": [
    "print(X)"
   ]
  },
  {
   "cell_type": "code",
   "execution_count": null,
   "id": "eace7aa4",
   "metadata": {},
   "outputs": [],
   "source": [
    "print(y)"
   ]
  },
  {
   "cell_type": "code",
   "execution_count": null,
   "id": "ceb61207",
   "metadata": {},
   "outputs": [],
   "source": [
    "Xtrain , Xtest , ytrain ,ytest=train_test_split(X,y,test_size=0.2,random_state=0)"
   ]
  },
  {
   "cell_type": "markdown",
   "id": "843d7784",
   "metadata": {},
   "source": [
    "Column Selection"
   ]
  },
  {
   "cell_type": "code",
   "execution_count": null,
   "id": "be2122c0",
   "metadata": {},
   "outputs": [],
   "source": [
    "cat_cols=X.select_dtypes(include=['object']).columns\n",
    "num_cols=X.select_dtypes(include=['number']).columns"
   ]
  },
  {
   "cell_type": "code",
   "execution_count": null,
   "id": "40beaffa",
   "metadata": {},
   "outputs": [],
   "source": [
    "from sklearn.pipeline import Pipeline\n",
    "from sklearn.compose import ColumnTransformer\n"
   ]
  },
  {
   "cell_type": "markdown",
   "id": "dfc4cb68",
   "metadata": {},
   "source": [
    "PipeLine"
   ]
  },
  {
   "cell_type": "markdown",
   "id": "550c1c81",
   "metadata": {},
   "source": []
  },
  {
   "cell_type": "code",
   "execution_count": null,
   "id": "35bcd387",
   "metadata": {},
   "outputs": [],
   "source": [
    "cat_pipe=Pipeline(\n",
    "    steps=[\n",
    "        ('encoder',OneHotEncoder(drop='first'))\n",
    "    ]\n",
    ")\n"
   ]
  },
  {
   "cell_type": "code",
   "execution_count": null,
   "id": "d0a9a200",
   "metadata": {},
   "outputs": [],
   "source": [
    "num_pipe=Pipeline(\n",
    "    steps=[\n",
    "        ('scaler',StandardScaler())\n",
    "    ]\n",
    ")"
   ]
  },
  {
   "cell_type": "code",
   "execution_count": null,
   "id": "e27618e0",
   "metadata": {},
   "outputs": [],
   "source": [
    "preprocessor= ColumnTransformer(transformers=[\n",
    "    ('cat', cat_pipe, cat_cols),\n",
    "    ('num',num_pipe,num_cols)\n",
    "])"
   ]
  },
  {
   "cell_type": "code",
   "execution_count": null,
   "id": "d8469432",
   "metadata": {},
   "outputs": [],
   "source": [
    "model=Pipeline(steps=[\n",
    "    ('preprocessor',preprocessor),\n",
    "    ('lr',LinearRegression())\n",
    "])"
   ]
  },
  {
   "cell_type": "code",
   "execution_count": null,
   "id": "e0bc31bb",
   "metadata": {},
   "outputs": [],
   "source": [
    "model.fit(Xtrain,ytrain)"
   ]
  },
  {
   "cell_type": "code",
   "execution_count": null,
   "id": "f86969bc",
   "metadata": {},
   "outputs": [],
   "source": [
    "\n",
    "from joblib import dump, load #dump is used to save the model and load is used to load the model \n",
    "with open('models/multiple_linear_regression.pkl','wb')as f:\n",
    "    dump(model, f) # dumping the model into the file\n",
    "    print(\"Model dumped successfully\")"
   ]
  },
  {
   "cell_type": "code",
   "execution_count": null,
   "id": "09bde2e8",
   "metadata": {},
   "outputs": [],
   "source": [
    "! pip install gradio"
   ]
  },
  {
   "cell_type": "code",
   "execution_count": null,
   "id": "0600e7df",
   "metadata": {},
   "outputs": [],
   "source": [
    "import gradio as gr\n",
    "import pandas as pd\n",
    "# make a single record DataFrame\n",
    "def prediction(rnd, admin,marketing, state):\n",
    "    df=pd.DataFrame({\n",
    "        'R&D Spend':[rnd],\n",
    "        'Administration':[admin],\n",
    "        'Marketing Spend':[marketing],\n",
    "        'State':[state],\n",
    "    })\n",
    "    #load joblib model file\n",
    "    with open('models/multiple_linear_regression.pkl','rb')as f:\n",
    "        model=load(f)\n",
    "\n",
    "\n",
    "    #predict the profit\n",
    "    profit =model.predict(df)# return the numpy array\n",
    "    return profit[0]#return the profit value\n",
    "ui= gr.Interface(\n",
    "    fn=prediction,\n",
    "    inputs=['number','number','number','text'],\n",
    "    outputs=gr.Text(),\n",
    "    title='50 startups profut prediction',\n",
    "    examples=[[165349,136897,471784,'New York']]\n",
    ")\n",
    "ui.launch()"
   ]
  },
  {
   "cell_type": "code",
   "execution_count": null,
   "id": "8dc4b832",
   "metadata": {},
   "outputs": [],
   "source": []
  }
 ],
 "metadata": {
  "kernelspec": {
   "display_name": "base",
   "language": "python",
   "name": "python3"
  },
  "language_info": {
   "codemirror_mode": {
    "name": "ipython",
    "version": 3
   },
   "file_extension": ".py",
   "mimetype": "text/x-python",
   "name": "python",
   "nbconvert_exporter": "python",
   "pygments_lexer": "ipython3",
   "version": "3.12.3"
  }
 },
 "nbformat": 4,
 "nbformat_minor": 5
}
